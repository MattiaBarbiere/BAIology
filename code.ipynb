{
 "cells": [
  {
   "cell_type": "code",
   "execution_count": 2,
   "metadata": {},
   "outputs": [
    {
     "name": "stdout",
     "output_type": "stream",
     "text": [
      "-1.0\n"
     ]
    }
   ],
   "source": [
    "import sys\n",
    "import sklearn\n",
    "import pandas as pd\n",
    "import numpy as np\n",
    "import matplotlib.pyplot as plt\n",
    "import seaborn as sns\n",
    "\n",
    "print(np.cos(np.pi))"
   ]
  },
  {
   "cell_type": "code",
   "execution_count": 10,
   "metadata": {},
   "outputs": [
    {
     "name": "stdout",
     "output_type": "stream",
     "text": [
      "Dataframe dimensions: (383, 8)\n",
      "First column:  Filename\n",
      "output.STAR.1_A10_Hypo_S28_Aligned.sortedByCoord.out.bam    MCF7\n",
      "output.STAR.1_A11_Hypo_S29_Aligned.sortedByCoord.out.bam    MCF7\n",
      "output.STAR.1_A12_Hypo_S30_Aligned.sortedByCoord.out.bam    MCF7\n",
      "output.STAR.1_A1_Norm_S1_Aligned.sortedByCoord.out.bam      MCF7\n",
      "output.STAR.1_A2_Norm_S2_Aligned.sortedByCoord.out.bam      MCF7\n",
      "                                                            ... \n",
      "output.STAR.4_H5_Norm_S359_Aligned.sortedByCoord.out.bam    MCF7\n",
      "output.STAR.4_H6_Norm_S360_Aligned.sortedByCoord.out.bam    MCF7\n",
      "output.STAR.4_H7_Hypo_S379_Aligned.sortedByCoord.out.bam    MCF7\n",
      "output.STAR.4_H8_Hypo_S380_Aligned.sortedByCoord.out.bam    MCF7\n",
      "output.STAR.4_H9_Hypo_S381_Aligned.sortedByCoord.out.bam    MCF7\n",
      "Name: Cell Line, Length: 383, dtype: object\n"
     ]
    }
   ],
   "source": [
    "df_meta = pd.read_csv(\"raw_data/MCF7_SmartS_MetaData.tsv\",delimiter=\"\\t\",engine='python',index_col=0)\n",
    "print(\"Dataframe dimensions:\", np.shape(df_meta))\n",
    "print(\"First column: \", df_meta.iloc[ : , 0])"
   ]
  },
  {
   "cell_type": "code",
   "execution_count": null,
   "metadata": {},
   "outputs": [],
   "source": []
  }
 ],
 "metadata": {
  "kernelspec": {
   "display_name": "Python 3",
   "language": "python",
   "name": "python3"
  },
  "language_info": {
   "codemirror_mode": {
    "name": "ipython",
    "version": 3
   },
   "file_extension": ".py",
   "mimetype": "text/x-python",
   "name": "python",
   "nbconvert_exporter": "python",
   "pygments_lexer": "ipython3",
   "version": "3.10.10"
  },
  "orig_nbformat": 4
 },
 "nbformat": 4,
 "nbformat_minor": 2
}
