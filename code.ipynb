{
 "cells": [
  {
   "cell_type": "code",
   "execution_count": 2,
   "metadata": {},
   "outputs": [
    {
     "name": "stdout",
     "output_type": "stream",
     "text": [
      "-1.0\n"
     ]
    }
   ],
   "source": [
    "import sys\n",
    "import sklearn\n",
    "import pandas as pd\n",
    "import numpy as np\n",
    "import matplotlib.pyplot as plt\n",
    "import seaborn as sns\n",
    "\n",
    "print(np.cos(np.pi))"
   ]
  },
  {
   "cell_type": "code",
   "execution_count": 10,
   "metadata": {},
   "outputs": [
    {
     "name": "stdout",
     "output_type": "stream",
     "text": [
      "Dataframe dimensions: (383, 8)\n",
      "First column:  Filename\n",
      "output.STAR.1_A10_Hypo_S28_Aligned.sortedByCoord.out.bam    MCF7\n",
      "output.STAR.1_A11_Hypo_S29_Aligned.sortedByCoord.out.bam    MCF7\n",
      "output.STAR.1_A12_Hypo_S30_Aligned.sortedByCoord.out.bam    MCF7\n",
      "output.STAR.1_A1_Norm_S1_Aligned.sortedByCoord.out.bam      MCF7\n",
      "output.STAR.1_A2_Norm_S2_Aligned.sortedByCoord.out.bam      MCF7\n",
      "                                                            ... \n",
      "output.STAR.4_H5_Norm_S359_Aligned.sortedByCoord.out.bam    MCF7\n",
      "output.STAR.4_H6_Norm_S360_Aligned.sortedByCoord.out.bam    MCF7\n",
      "output.STAR.4_H7_Hypo_S379_Aligned.sortedByCoord.out.bam    MCF7\n",
      "output.STAR.4_H8_Hypo_S380_Aligned.sortedByCoord.out.bam    MCF7\n",
      "output.STAR.4_H9_Hypo_S381_Aligned.sortedByCoord.out.bam    MCF7\n",
      "Name: Cell Line, Length: 383, dtype: object\n"
     ]
    }
   ],
   "source": [
    "df_meta = pd.read_csv(\"raw_data/MCF7_SmartS_MetaData.tsv\",delimiter=\"\\t\",engine='python',index_col=0)\n",
    "print(\"Dataframe dimensions:\", np.shape(df_meta))\n",
    "print(\"First column: \", df_meta.iloc[ : , 0])"
   ]
  },
  {
   "cell_type": "code",
   "execution_count": 11,
   "metadata": {},
   "outputs": [
    {
     "data": {
      "text/html": [
       "<div>\n",
       "<style scoped>\n",
       "    .dataframe tbody tr th:only-of-type {\n",
       "        vertical-align: middle;\n",
       "    }\n",
       "\n",
       "    .dataframe tbody tr th {\n",
       "        vertical-align: top;\n",
       "    }\n",
       "\n",
       "    .dataframe thead th {\n",
       "        text-align: right;\n",
       "    }\n",
       "</style>\n",
       "<table border=\"1\" class=\"dataframe\">\n",
       "  <thead>\n",
       "    <tr style=\"text-align: right;\">\n",
       "      <th></th>\n",
       "      <th>Cell Line</th>\n",
       "      <th>Lane</th>\n",
       "      <th>Pos</th>\n",
       "      <th>Condition</th>\n",
       "      <th>Hours</th>\n",
       "      <th>Cell name</th>\n",
       "      <th>PreprocessingTag</th>\n",
       "      <th>ProcessingComments</th>\n",
       "    </tr>\n",
       "    <tr>\n",
       "      <th>Filename</th>\n",
       "      <th></th>\n",
       "      <th></th>\n",
       "      <th></th>\n",
       "      <th></th>\n",
       "      <th></th>\n",
       "      <th></th>\n",
       "      <th></th>\n",
       "      <th></th>\n",
       "    </tr>\n",
       "  </thead>\n",
       "  <tbody>\n",
       "    <tr>\n",
       "      <th>output.STAR.1_A10_Hypo_S28_Aligned.sortedByCoord.out.bam</th>\n",
       "      <td>MCF7</td>\n",
       "      <td>output.STAR.1</td>\n",
       "      <td>A10</td>\n",
       "      <td>Hypo</td>\n",
       "      <td>72</td>\n",
       "      <td>S28</td>\n",
       "      <td>Aligned.sortedByCoord.out.bam</td>\n",
       "      <td>STAR,FeatureCounts</td>\n",
       "    </tr>\n",
       "    <tr>\n",
       "      <th>output.STAR.1_A11_Hypo_S29_Aligned.sortedByCoord.out.bam</th>\n",
       "      <td>MCF7</td>\n",
       "      <td>output.STAR.1</td>\n",
       "      <td>A11</td>\n",
       "      <td>Hypo</td>\n",
       "      <td>72</td>\n",
       "      <td>S29</td>\n",
       "      <td>Aligned.sortedByCoord.out.bam</td>\n",
       "      <td>STAR,FeatureCounts</td>\n",
       "    </tr>\n",
       "    <tr>\n",
       "      <th>output.STAR.1_A12_Hypo_S30_Aligned.sortedByCoord.out.bam</th>\n",
       "      <td>MCF7</td>\n",
       "      <td>output.STAR.1</td>\n",
       "      <td>A12</td>\n",
       "      <td>Hypo</td>\n",
       "      <td>72</td>\n",
       "      <td>S30</td>\n",
       "      <td>Aligned.sortedByCoord.out.bam</td>\n",
       "      <td>STAR,FeatureCounts</td>\n",
       "    </tr>\n",
       "    <tr>\n",
       "      <th>output.STAR.1_A1_Norm_S1_Aligned.sortedByCoord.out.bam</th>\n",
       "      <td>MCF7</td>\n",
       "      <td>output.STAR.1</td>\n",
       "      <td>A1</td>\n",
       "      <td>Norm</td>\n",
       "      <td>72</td>\n",
       "      <td>S1</td>\n",
       "      <td>Aligned.sortedByCoord.out.bam</td>\n",
       "      <td>STAR,FeatureCounts</td>\n",
       "    </tr>\n",
       "    <tr>\n",
       "      <th>output.STAR.1_A2_Norm_S2_Aligned.sortedByCoord.out.bam</th>\n",
       "      <td>MCF7</td>\n",
       "      <td>output.STAR.1</td>\n",
       "      <td>A2</td>\n",
       "      <td>Norm</td>\n",
       "      <td>72</td>\n",
       "      <td>S2</td>\n",
       "      <td>Aligned.sortedByCoord.out.bam</td>\n",
       "      <td>STAR,FeatureCounts</td>\n",
       "    </tr>\n",
       "  </tbody>\n",
       "</table>\n",
       "</div>"
      ],
      "text/plain": [
       "                                                   Cell Line           Lane  \\\n",
       "Filename                                                                      \n",
       "output.STAR.1_A10_Hypo_S28_Aligned.sortedByCoor...      MCF7  output.STAR.1   \n",
       "output.STAR.1_A11_Hypo_S29_Aligned.sortedByCoor...      MCF7  output.STAR.1   \n",
       "output.STAR.1_A12_Hypo_S30_Aligned.sortedByCoor...      MCF7  output.STAR.1   \n",
       "output.STAR.1_A1_Norm_S1_Aligned.sortedByCoord....      MCF7  output.STAR.1   \n",
       "output.STAR.1_A2_Norm_S2_Aligned.sortedByCoord....      MCF7  output.STAR.1   \n",
       "\n",
       "                                                    Pos Condition  Hours  \\\n",
       "Filename                                                                   \n",
       "output.STAR.1_A10_Hypo_S28_Aligned.sortedByCoor...  A10      Hypo     72   \n",
       "output.STAR.1_A11_Hypo_S29_Aligned.sortedByCoor...  A11      Hypo     72   \n",
       "output.STAR.1_A12_Hypo_S30_Aligned.sortedByCoor...  A12      Hypo     72   \n",
       "output.STAR.1_A1_Norm_S1_Aligned.sortedByCoord....   A1      Norm     72   \n",
       "output.STAR.1_A2_Norm_S2_Aligned.sortedByCoord....   A2      Norm     72   \n",
       "\n",
       "                                                   Cell name  \\\n",
       "Filename                                                       \n",
       "output.STAR.1_A10_Hypo_S28_Aligned.sortedByCoor...       S28   \n",
       "output.STAR.1_A11_Hypo_S29_Aligned.sortedByCoor...       S29   \n",
       "output.STAR.1_A12_Hypo_S30_Aligned.sortedByCoor...       S30   \n",
       "output.STAR.1_A1_Norm_S1_Aligned.sortedByCoord....        S1   \n",
       "output.STAR.1_A2_Norm_S2_Aligned.sortedByCoord....        S2   \n",
       "\n",
       "                                                                 PreprocessingTag  \\\n",
       "Filename                                                                            \n",
       "output.STAR.1_A10_Hypo_S28_Aligned.sortedByCoor...  Aligned.sortedByCoord.out.bam   \n",
       "output.STAR.1_A11_Hypo_S29_Aligned.sortedByCoor...  Aligned.sortedByCoord.out.bam   \n",
       "output.STAR.1_A12_Hypo_S30_Aligned.sortedByCoor...  Aligned.sortedByCoord.out.bam   \n",
       "output.STAR.1_A1_Norm_S1_Aligned.sortedByCoord....  Aligned.sortedByCoord.out.bam   \n",
       "output.STAR.1_A2_Norm_S2_Aligned.sortedByCoord....  Aligned.sortedByCoord.out.bam   \n",
       "\n",
       "                                                    ProcessingComments  \n",
       "Filename                                                                \n",
       "output.STAR.1_A10_Hypo_S28_Aligned.sortedByCoor...  STAR,FeatureCounts  \n",
       "output.STAR.1_A11_Hypo_S29_Aligned.sortedByCoor...  STAR,FeatureCounts  \n",
       "output.STAR.1_A12_Hypo_S30_Aligned.sortedByCoor...  STAR,FeatureCounts  \n",
       "output.STAR.1_A1_Norm_S1_Aligned.sortedByCoord....  STAR,FeatureCounts  \n",
       "output.STAR.1_A2_Norm_S2_Aligned.sortedByCoord....  STAR,FeatureCounts  "
      ]
     },
     "execution_count": 11,
     "metadata": {},
     "output_type": "execute_result"
    }
   ],
   "source": [
    "df_meta.head(5)"
   ]
  },
  {
   "cell_type": "code",
   "execution_count": 34,
   "metadata": {},
   "outputs": [
    {
     "data": {
      "text/plain": [
       "STAR,FeatureCounts    383\n",
       "Name: ProcessingComments, dtype: int64"
      ]
     },
     "execution_count": 34,
     "metadata": {},
     "output_type": "execute_result"
    }
   ],
   "source": [
    "#df_meta[\"Cell Line\"].value_counts()\n",
    "#Always MCF7\n",
    "\n",
    "#df_meta[\"Lane\"].value_counts()\n",
    "#96 times Star1-2-3, 95 Star4\n",
    "\n",
    "#df_meta[\"Pos\"].value_counts()\n",
    "#98 Possible values\n",
    "\n",
    "#df_meta[\"Condition\"].value_counts()\n",
    "#192 Norm, 191 Hypo\n",
    "\n",
    "#df_meta[\"Hours\"].value_counts()\n",
    "#Always 72\n",
    "\n",
    "#df_meta[\"Cell name\"].value_counts()\n",
    "#All different\n",
    "\n",
    "#df_meta[\"PreprocessingTag\"].value_counts()\n",
    "#Always Aligned.sortedByCoord.out.bam\n",
    "\n",
    "#df_meta[\"ProcessingComments\"].value_counts()\n",
    "#Always STAR,FeatureCounts"
   ]
  },
  {
   "cell_type": "code",
   "execution_count": null,
   "metadata": {},
   "outputs": [],
   "source": []
  },
  {
   "cell_type": "code",
   "execution_count": null,
   "metadata": {},
   "outputs": [],
   "source": []
  }
 ],
 "metadata": {
  "kernelspec": {
   "display_name": "Python 3",
   "language": "python",
   "name": "python3"
  },
  "language_info": {
   "codemirror_mode": {
    "name": "ipython",
    "version": 3
   },
   "file_extension": ".py",
   "mimetype": "text/x-python",
   "name": "python",
   "nbconvert_exporter": "python",
   "pygments_lexer": "ipython3",
   "version": "3.10.10"
  },
  "orig_nbformat": 4
 },
 "nbformat": 4,
 "nbformat_minor": 2
}
