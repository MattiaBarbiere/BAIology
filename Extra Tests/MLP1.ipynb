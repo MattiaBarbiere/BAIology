{
 "cells": [
  {
   "attachments": {},
   "cell_type": "markdown",
   "metadata": {},
   "source": [
    "# Multilayer Perceptron"
   ]
  },
  {
   "attachments": {},
   "cell_type": "markdown",
   "metadata": {},
   "source": [
    "---\n",
    "## General Imports"
   ]
  },
  {
   "cell_type": "code",
   "execution_count": 1,
   "metadata": {},
   "outputs": [],
   "source": [
    "import torch\n",
    "import numpy as np\n",
    "import torch.nn as nn\n",
    "import pandas as pd"
   ]
  },
  {
   "cell_type": "code",
   "execution_count": 4,
   "metadata": {},
   "outputs": [],
   "source": [
    "df_HCC_tr = pd.read_csv(\"raw_data/HCC1806_SmartS_Filtered_Normalised_3000_Data_train.txt\", delimiter=\"\\ \",engine='python',index_col=0)\n",
    "df_MCF_tr = pd.read_csv(\"raw_data/MCF7_SmartS_Filtered_Normalised_3000_Data_train.txt\", delimiter=\"\\ \",engine='python',index_col=0)\n",
    "df_HCC_tr = df_HCC_tr.T\n",
    "df_MCF_tr = df_MCF_tr.T"
   ]
  },
  {
   "cell_type": "code",
   "execution_count": 5,
   "metadata": {},
   "outputs": [
    {
     "data": {
      "text/html": [
       "<div>\n",
       "<style scoped>\n",
       "    .dataframe tbody tr th:only-of-type {\n",
       "        vertical-align: middle;\n",
       "    }\n",
       "\n",
       "    .dataframe tbody tr th {\n",
       "        vertical-align: top;\n",
       "    }\n",
       "\n",
       "    .dataframe thead th {\n",
       "        text-align: right;\n",
       "    }\n",
       "</style>\n",
       "<table border=\"1\" class=\"dataframe\">\n",
       "  <thead>\n",
       "    <tr style=\"text-align: right;\">\n",
       "      <th></th>\n",
       "      <th>\"DDIT4\"</th>\n",
       "      <th>\"ANGPTL4\"</th>\n",
       "      <th>\"CALML5\"</th>\n",
       "      <th>\"KRT14\"</th>\n",
       "      <th>\"CCNB1\"</th>\n",
       "      <th>\"IGFBP3\"</th>\n",
       "      <th>\"AKR1C2\"</th>\n",
       "      <th>\"KRT6A\"</th>\n",
       "      <th>\"NDRG1\"</th>\n",
       "      <th>\"KRT4\"</th>\n",
       "      <th>...</th>\n",
       "      <th>\"MST1R\"</th>\n",
       "      <th>\"ZYG11A\"</th>\n",
       "      <th>\"NRG1\"</th>\n",
       "      <th>\"RBMS3\"</th>\n",
       "      <th>\"VCPIP1\"</th>\n",
       "      <th>\"LINC02693\"</th>\n",
       "      <th>\"OR8B9P\"</th>\n",
       "      <th>\"NEAT1\"</th>\n",
       "      <th>\"ZDHHC23\"</th>\n",
       "      <th>\"ODAD2\"</th>\n",
       "    </tr>\n",
       "  </thead>\n",
       "  <tbody>\n",
       "    <tr>\n",
       "      <th>\"output.STAR.PCRPlate1G12_Normoxia_S32_Aligned.sortedByCoord.out.bam\"</th>\n",
       "      <td>0</td>\n",
       "      <td>48</td>\n",
       "      <td>0</td>\n",
       "      <td>321</td>\n",
       "      <td>298</td>\n",
       "      <td>82</td>\n",
       "      <td>6250</td>\n",
       "      <td>634</td>\n",
       "      <td>0</td>\n",
       "      <td>0</td>\n",
       "      <td>...</td>\n",
       "      <td>78</td>\n",
       "      <td>10</td>\n",
       "      <td>136</td>\n",
       "      <td>0</td>\n",
       "      <td>0</td>\n",
       "      <td>29</td>\n",
       "      <td>0</td>\n",
       "      <td>29</td>\n",
       "      <td>0</td>\n",
       "      <td>0</td>\n",
       "    </tr>\n",
       "    <tr>\n",
       "      <th>\"output.STAR.PCRPlate1G1_Hypoxia_S102_Aligned.sortedByCoord.out.bam\"</th>\n",
       "      <td>8739</td>\n",
       "      <td>2101</td>\n",
       "      <td>55</td>\n",
       "      <td>96</td>\n",
       "      <td>1824</td>\n",
       "      <td>1938</td>\n",
       "      <td>62</td>\n",
       "      <td>0</td>\n",
       "      <td>522</td>\n",
       "      <td>413</td>\n",
       "      <td>...</td>\n",
       "      <td>279</td>\n",
       "      <td>0</td>\n",
       "      <td>264</td>\n",
       "      <td>0</td>\n",
       "      <td>134</td>\n",
       "      <td>68</td>\n",
       "      <td>0</td>\n",
       "      <td>213</td>\n",
       "      <td>0</td>\n",
       "      <td>0</td>\n",
       "    </tr>\n",
       "    <tr>\n",
       "      <th>\"output.STAR.PCRPlate1G2_Hypoxia_S2_Aligned.sortedByCoord.out.bam\"</th>\n",
       "      <td>13098</td>\n",
       "      <td>14032</td>\n",
       "      <td>0</td>\n",
       "      <td>0</td>\n",
       "      <td>1616</td>\n",
       "      <td>247</td>\n",
       "      <td>430</td>\n",
       "      <td>907</td>\n",
       "      <td>348</td>\n",
       "      <td>0</td>\n",
       "      <td>...</td>\n",
       "      <td>311</td>\n",
       "      <td>0</td>\n",
       "      <td>38</td>\n",
       "      <td>0</td>\n",
       "      <td>0</td>\n",
       "      <td>0</td>\n",
       "      <td>0</td>\n",
       "      <td>92</td>\n",
       "      <td>0</td>\n",
       "      <td>0</td>\n",
       "    </tr>\n",
       "    <tr>\n",
       "      <th>\"output.STAR.PCRPlate1G3_Hypoxia_S7_Aligned.sortedByCoord.out.bam\"</th>\n",
       "      <td>2880</td>\n",
       "      <td>356</td>\n",
       "      <td>0</td>\n",
       "      <td>6211</td>\n",
       "      <td>3</td>\n",
       "      <td>3430</td>\n",
       "      <td>79</td>\n",
       "      <td>1953</td>\n",
       "      <td>592</td>\n",
       "      <td>176</td>\n",
       "      <td>...</td>\n",
       "      <td>125</td>\n",
       "      <td>0</td>\n",
       "      <td>16</td>\n",
       "      <td>0</td>\n",
       "      <td>4</td>\n",
       "      <td>1</td>\n",
       "      <td>0</td>\n",
       "      <td>1</td>\n",
       "      <td>0</td>\n",
       "      <td>0</td>\n",
       "    </tr>\n",
       "    <tr>\n",
       "      <th>\"output.STAR.PCRPlate1G4_Hypoxia_S107_Aligned.sortedByCoord.out.bam\"</th>\n",
       "      <td>7777</td>\n",
       "      <td>5661</td>\n",
       "      <td>4383</td>\n",
       "      <td>0</td>\n",
       "      <td>145</td>\n",
       "      <td>4618</td>\n",
       "      <td>246</td>\n",
       "      <td>85</td>\n",
       "      <td>206</td>\n",
       "      <td>0</td>\n",
       "      <td>...</td>\n",
       "      <td>268</td>\n",
       "      <td>1</td>\n",
       "      <td>25</td>\n",
       "      <td>0</td>\n",
       "      <td>0</td>\n",
       "      <td>0</td>\n",
       "      <td>0</td>\n",
       "      <td>128</td>\n",
       "      <td>0</td>\n",
       "      <td>0</td>\n",
       "    </tr>\n",
       "  </tbody>\n",
       "</table>\n",
       "<p>5 rows × 3000 columns</p>\n",
       "</div>"
      ],
      "text/plain": [
       "                                                    \"DDIT4\"  \"ANGPTL4\"  \\\n",
       "\"output.STAR.PCRPlate1G12_Normoxia_S32_Aligned....        0         48   \n",
       "\"output.STAR.PCRPlate1G1_Hypoxia_S102_Aligned.s...     8739       2101   \n",
       "\"output.STAR.PCRPlate1G2_Hypoxia_S2_Aligned.sor...    13098      14032   \n",
       "\"output.STAR.PCRPlate1G3_Hypoxia_S7_Aligned.sor...     2880        356   \n",
       "\"output.STAR.PCRPlate1G4_Hypoxia_S107_Aligned.s...     7777       5661   \n",
       "\n",
       "                                                    \"CALML5\"  \"KRT14\"  \\\n",
       "\"output.STAR.PCRPlate1G12_Normoxia_S32_Aligned....         0      321   \n",
       "\"output.STAR.PCRPlate1G1_Hypoxia_S102_Aligned.s...        55       96   \n",
       "\"output.STAR.PCRPlate1G2_Hypoxia_S2_Aligned.sor...         0        0   \n",
       "\"output.STAR.PCRPlate1G3_Hypoxia_S7_Aligned.sor...         0     6211   \n",
       "\"output.STAR.PCRPlate1G4_Hypoxia_S107_Aligned.s...      4383        0   \n",
       "\n",
       "                                                    \"CCNB1\"  \"IGFBP3\"  \\\n",
       "\"output.STAR.PCRPlate1G12_Normoxia_S32_Aligned....      298        82   \n",
       "\"output.STAR.PCRPlate1G1_Hypoxia_S102_Aligned.s...     1824      1938   \n",
       "\"output.STAR.PCRPlate1G2_Hypoxia_S2_Aligned.sor...     1616       247   \n",
       "\"output.STAR.PCRPlate1G3_Hypoxia_S7_Aligned.sor...        3      3430   \n",
       "\"output.STAR.PCRPlate1G4_Hypoxia_S107_Aligned.s...      145      4618   \n",
       "\n",
       "                                                    \"AKR1C2\"  \"KRT6A\"  \\\n",
       "\"output.STAR.PCRPlate1G12_Normoxia_S32_Aligned....      6250      634   \n",
       "\"output.STAR.PCRPlate1G1_Hypoxia_S102_Aligned.s...        62        0   \n",
       "\"output.STAR.PCRPlate1G2_Hypoxia_S2_Aligned.sor...       430      907   \n",
       "\"output.STAR.PCRPlate1G3_Hypoxia_S7_Aligned.sor...        79     1953   \n",
       "\"output.STAR.PCRPlate1G4_Hypoxia_S107_Aligned.s...       246       85   \n",
       "\n",
       "                                                    \"NDRG1\"  \"KRT4\"  ...  \\\n",
       "\"output.STAR.PCRPlate1G12_Normoxia_S32_Aligned....        0       0  ...   \n",
       "\"output.STAR.PCRPlate1G1_Hypoxia_S102_Aligned.s...      522     413  ...   \n",
       "\"output.STAR.PCRPlate1G2_Hypoxia_S2_Aligned.sor...      348       0  ...   \n",
       "\"output.STAR.PCRPlate1G3_Hypoxia_S7_Aligned.sor...      592     176  ...   \n",
       "\"output.STAR.PCRPlate1G4_Hypoxia_S107_Aligned.s...      206       0  ...   \n",
       "\n",
       "                                                    \"MST1R\"  \"ZYG11A\"  \"NRG1\"  \\\n",
       "\"output.STAR.PCRPlate1G12_Normoxia_S32_Aligned....       78        10     136   \n",
       "\"output.STAR.PCRPlate1G1_Hypoxia_S102_Aligned.s...      279         0     264   \n",
       "\"output.STAR.PCRPlate1G2_Hypoxia_S2_Aligned.sor...      311         0      38   \n",
       "\"output.STAR.PCRPlate1G3_Hypoxia_S7_Aligned.sor...      125         0      16   \n",
       "\"output.STAR.PCRPlate1G4_Hypoxia_S107_Aligned.s...      268         1      25   \n",
       "\n",
       "                                                    \"RBMS3\"  \"VCPIP1\"  \\\n",
       "\"output.STAR.PCRPlate1G12_Normoxia_S32_Aligned....        0         0   \n",
       "\"output.STAR.PCRPlate1G1_Hypoxia_S102_Aligned.s...        0       134   \n",
       "\"output.STAR.PCRPlate1G2_Hypoxia_S2_Aligned.sor...        0         0   \n",
       "\"output.STAR.PCRPlate1G3_Hypoxia_S7_Aligned.sor...        0         4   \n",
       "\"output.STAR.PCRPlate1G4_Hypoxia_S107_Aligned.s...        0         0   \n",
       "\n",
       "                                                    \"LINC02693\"  \"OR8B9P\"  \\\n",
       "\"output.STAR.PCRPlate1G12_Normoxia_S32_Aligned....           29         0   \n",
       "\"output.STAR.PCRPlate1G1_Hypoxia_S102_Aligned.s...           68         0   \n",
       "\"output.STAR.PCRPlate1G2_Hypoxia_S2_Aligned.sor...            0         0   \n",
       "\"output.STAR.PCRPlate1G3_Hypoxia_S7_Aligned.sor...            1         0   \n",
       "\"output.STAR.PCRPlate1G4_Hypoxia_S107_Aligned.s...            0         0   \n",
       "\n",
       "                                                    \"NEAT1\"  \"ZDHHC23\"  \\\n",
       "\"output.STAR.PCRPlate1G12_Normoxia_S32_Aligned....       29          0   \n",
       "\"output.STAR.PCRPlate1G1_Hypoxia_S102_Aligned.s...      213          0   \n",
       "\"output.STAR.PCRPlate1G2_Hypoxia_S2_Aligned.sor...       92          0   \n",
       "\"output.STAR.PCRPlate1G3_Hypoxia_S7_Aligned.sor...        1          0   \n",
       "\"output.STAR.PCRPlate1G4_Hypoxia_S107_Aligned.s...      128          0   \n",
       "\n",
       "                                                    \"ODAD2\"  \n",
       "\"output.STAR.PCRPlate1G12_Normoxia_S32_Aligned....        0  \n",
       "\"output.STAR.PCRPlate1G1_Hypoxia_S102_Aligned.s...        0  \n",
       "\"output.STAR.PCRPlate1G2_Hypoxia_S2_Aligned.sor...        0  \n",
       "\"output.STAR.PCRPlate1G3_Hypoxia_S7_Aligned.sor...        0  \n",
       "\"output.STAR.PCRPlate1G4_Hypoxia_S107_Aligned.s...        0  \n",
       "\n",
       "[5 rows x 3000 columns]"
      ]
     },
     "execution_count": 5,
     "metadata": {},
     "output_type": "execute_result"
    }
   ],
   "source": [
    "df_HCC_tr.head()"
   ]
  },
  {
   "attachments": {},
   "cell_type": "markdown",
   "metadata": {},
   "source": [
    "---\n",
    "## MLP Model Definition"
   ]
  },
  {
   "cell_type": "code",
   "execution_count": 50,
   "metadata": {},
   "outputs": [],
   "source": [
    "class MLP(nn.Module):\n",
    "    def __init__(self, D_in, D_out, H):\n",
    "        super().__init__()\n",
    "        self.linear_relu_stack = nn.Sequential(\n",
    "            nn.Linear(D_in, H),\n",
    "            nn.ReLU(),\n",
    "            nn.Linear(H, D_out),\n",
    "            nn.ReLU(),\n",
    "        )\n",
    "\n",
    "    def forward(self, x):\n",
    "        logits = self.linear_relu_stack(x)\n",
    "        return logits"
   ]
  },
  {
   "cell_type": "code",
   "execution_count": 43,
   "metadata": {},
   "outputs": [],
   "source": [
    "def Train(X, y, H, eta, epochs):\n",
    "    D_in= X.shape[1]\n",
    "    D_out = y.shape[1]\n",
    "    model = MLP(D_in, D_out, H)\n",
    "    optimizer = torch.optim.SGD(model.parameters(), lr=eta)\n",
    "    for i in range(epochs):\n",
    "        loss = torch.mean((y-model(X))**2)\n",
    "        loss.backward()\n",
    "        optimizer.step()\n",
    "        optimizer.zero_grad()\n",
    "    return model"
   ]
  },
  {
   "attachments": {},
   "cell_type": "markdown",
   "metadata": {},
   "source": [
    "---\n",
    "## Temporary"
   ]
  },
  {
   "cell_type": "code",
   "execution_count": 13,
   "metadata": {},
   "outputs": [],
   "source": [
    "from sklearn.pipeline import Pipeline\n",
    "from sklearn.preprocessing import StandardScaler\n",
    "from sklearn.preprocessing import MinMaxScaler"
   ]
  },
  {
   "cell_type": "code",
   "execution_count": 14,
   "metadata": {},
   "outputs": [],
   "source": [
    "#Metadata Files\n",
    "filepath_HCC = \"raw_data/HCC1806_SmartS_MetaData.tsv\"\n",
    "filepath_MCF = \"raw_data/MCF7_SmartS_MetaData.tsv\"\n",
    "df_meta_HCC = pd.read_csv(filepath_HCC,delimiter=\"\\t\",engine='python',index_col=0)\n",
    "df_meta_MCF = pd.read_csv(filepath_MCF,delimiter=\"\\t\",engine='python',index_col=0)\n",
    "\n",
    "#Filtered Files\n",
    "df_HCC_s_f = pd.read_csv(\"raw_data/HCC1806_SmartS_Filtered_Data.txt\", delimiter=\"\\ \",engine='python',index_col=0)\n",
    "df_MCF_s_f = pd.read_csv(\"raw_data/MCF7_SmartS_Filtered_Data.txt\", delimiter=\"\\ \",engine='python',index_col=0)\n",
    "\n",
    "#Transposition\n",
    "df_HCC_F = df_HCC_s_f.T\n",
    "df_MCF_F = df_MCF_s_f.T"
   ]
  },
  {
   "cell_type": "code",
   "execution_count": 16,
   "metadata": {},
   "outputs": [],
   "source": [
    "steps = [('scaler', StandardScaler()), ('normalizer', MinMaxScaler())]\n",
    "pipeline = Pipeline(steps)\n",
    "df_HCC_F_N = pd.DataFrame(pipeline.fit_transform(df_HCC_F), columns=df_HCC_F.columns, index=df_HCC_F.index)\n",
    "df_MCF_F_N = pd.DataFrame(pipeline.fit_transform(df_MCF_F), columns=df_MCF_F.columns, index=df_MCF_F.index)"
   ]
  },
  {
   "cell_type": "code",
   "execution_count": 17,
   "metadata": {},
   "outputs": [],
   "source": [
    "def MainCols(df,n):\n",
    "    #Given Dataframe df and number n, returns the first n columns of df in term of nonzero elements\n",
    "    non_zero_counts = pd.DataFrame((df != 0).sum(axis=0), columns = [\"Counts\"]).T\n",
    "    sorted_df = non_zero_counts.sort_values(by = 'Counts', axis = 1, ascending = False)\n",
    "    columns = (sorted_df.iloc[:,0:n]).columns\n",
    "    filtered = df.loc[:, df.columns.isin(columns)]\n",
    "    return filtered\n",
    "df_HCC = MainCols(df_HCC_F_N, 3000)\n",
    "df_MCF = MainCols(df_MCF_F_N, 3000)"
   ]
  },
  {
   "cell_type": "code",
   "execution_count": 18,
   "metadata": {},
   "outputs": [],
   "source": [
    "def split_train_test(data, test_ratio):\n",
    "    shuffled_indices = np.random.permutation(len(data))\n",
    "    test_set_size = int(len(data) * test_ratio)\n",
    "    test_indices = shuffled_indices[:test_set_size]\n",
    "    train_indices = shuffled_indices[test_set_size:]\n",
    "    return data.iloc[train_indices], data.iloc[test_indices]\n",
    "df_HCC_train , df_HCC_test = split_train_test(df_HCC, 0.2)\n",
    "df_MCF_train , df_MCF_test = split_train_test(df_MCF, 0.2)"
   ]
  },
  {
   "cell_type": "code",
   "execution_count": 19,
   "metadata": {},
   "outputs": [],
   "source": [
    "def Label(df, meta):\n",
    "    Names = [cell[1:-1] for cell in df.index]\n",
    "    Hypo = [meta.loc[i,\"Condition\"] for i in Names]\n",
    "    OH_Hypo = [1 if x==\"Normo\" else 0 for x in Hypo]\n",
    "    result = pd.DataFrame(OH_Hypo, columns=[\"Condition\"], index=df.index)\n",
    "    return result\n",
    "Y_HCC_train = Label(df_HCC_train, df_meta_HCC)\n",
    "Y_HCC_test = Label(df_HCC_test, df_meta_HCC)\n",
    "Y_MCF_train = Label(df_MCF_train, df_meta_MCF)\n",
    "Y_MCF_test = Label(df_MCF_test, df_meta_MCF)"
   ]
  },
  {
   "attachments": {},
   "cell_type": "markdown",
   "metadata": {},
   "source": [
    "---\n",
    "## Torch Tensor Conversion"
   ]
  },
  {
   "cell_type": "code",
   "execution_count": 29,
   "metadata": {},
   "outputs": [],
   "source": [
    "HCC_tr_tensor = torch.from_numpy(df_HCC_train.values).to(torch.float32)\n",
    "MCF_tr_tensor = torch.from_numpy(df_MCF_train.values).to(torch.float32)\n",
    "\n",
    "Y_HCC_tr_tensor = torch.from_numpy(Y_HCC_train.values).to(torch.float32)\n",
    "Y_MCF_tr_tensor = torch.from_numpy(Y_MCF_train.values).to(torch.float32)\n",
    "\n",
    "HCC_ts_tensor = torch.from_numpy(df_HCC_test.values).to(torch.float32)\n",
    "MCF_ts_tensor = torch.from_numpy(df_MCF_test.values).to(torch.float32)\n",
    "\n",
    "Y_HCC_ts_tensor = torch.from_numpy(Y_HCC_test.values).to(torch.float32)\n",
    "Y_MCF_ts_tensor = torch.from_numpy(Y_MCF_test.values).to(torch.float32)\n"
   ]
  },
  {
   "attachments": {},
   "cell_type": "markdown",
   "metadata": {},
   "source": [
    "---\n",
    "## Training"
   ]
  },
  {
   "cell_type": "code",
   "execution_count": 51,
   "metadata": {},
   "outputs": [],
   "source": [
    "N, D_in = HCC_tr_tensor.shape\n",
    "D_out = 1\n",
    "eta, epochs = 1e-3, 5000\n",
    "model_HCC = Train(HCC_tr_tensor, Y_HCC_tr_tensor, 100, eta, epochs)"
   ]
  },
  {
   "cell_type": "code",
   "execution_count": 53,
   "metadata": {},
   "outputs": [],
   "source": [
    "N, D_in = MCF_tr_tensor.shape\n",
    "D_out = 1\n",
    "eta, epochs = 1e-3, 5000\n",
    "model_MCF = Train(MCF_tr_tensor, Y_MCF_tr_tensor, 100, eta, epochs)"
   ]
  },
  {
   "attachments": {},
   "cell_type": "markdown",
   "metadata": {},
   "source": [
    "---\n",
    "## Model Evaluation"
   ]
  },
  {
   "cell_type": "code",
   "execution_count": 54,
   "metadata": {},
   "outputs": [
    {
     "name": "stdout",
     "output_type": "stream",
     "text": [
      "Error HCC: 7.184535264968872 %\n",
      "Error MCF: 0.0 %\n"
     ]
    }
   ],
   "source": [
    "def Error(X,Y, model):\n",
    "    return torch.mean((Y-model(X))**2).item()\n",
    "\n",
    "print(\"Error HCC:\", Error(HCC_ts_tensor,Y_HCC_ts_tensor, model_HCC)*100, \"%\")\n",
    "print(\"Error MCF:\", Error(MCF_ts_tensor,Y_MCF_ts_tensor, model_MCF)*100, \"%\")"
   ]
  },
  {
   "cell_type": "markdown",
   "metadata": {},
   "source": []
  }
 ],
 "metadata": {
  "kernelspec": {
   "display_name": "Python 3",
   "language": "python",
   "name": "python3"
  },
  "language_info": {
   "codemirror_mode": {
    "name": "ipython",
    "version": 3
   },
   "file_extension": ".py",
   "mimetype": "text/x-python",
   "name": "python",
   "nbconvert_exporter": "python",
   "pygments_lexer": "ipython3",
   "version": "3.10.11"
  },
  "orig_nbformat": 4
 },
 "nbformat": 4,
 "nbformat_minor": 2
}
