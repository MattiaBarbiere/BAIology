{
 "cells": [
  {
   "attachments": {},
   "cell_type": "markdown",
   "metadata": {},
   "source": [
    "# Logistic Regression"
   ]
  },
  {
   "cell_type": "code",
   "execution_count": 1,
   "metadata": {},
   "outputs": [],
   "source": [
    "import matplotlib.pyplot as plt\n",
    "import ipywidgets as widgets\n",
    "from sklearn.svm import SVC\n",
    "import sklearn as sk\n",
    "import seaborn as sns \n",
    "import pandas as pd\n",
    "import numpy as np\n",
    "import warnings"
   ]
  },
  {
   "cell_type": "code",
   "execution_count": 2,
   "metadata": {},
   "outputs": [],
   "source": [
    "#given a dataset it returns a list will all the values of the targets (hypo = 0 and Norm = 0)\n",
    "def labels(df):\n",
    "    target = []\n",
    "    for c in df.columns:\n",
    "        if \"Hypoxia\" in c.replace('\\\"', '').split(\"_\") or \"Hypo\" in c.split(\"_\"):\n",
    "            target.append(0.0)\n",
    "        elif \"Normoxia\" in c.replace('\\\"', '').split(\"_\") or \"Norm\" in c.split(\"_\"):\n",
    "            target.append(1.0)\n",
    "        else:\n",
    "            \n",
    "            print(c)\n",
    "            raise ValueError(\"Cell cannot be categorized\")\n",
    "    return target\n",
    "        "
   ]
  },
  {
   "cell_type": "code",
   "execution_count": 3,
   "metadata": {},
   "outputs": [],
   "source": [
    "#-----SmartSeq-----#\n",
    "HCC_s_Train = pd.read_csv(\"processed_data\\HCC1806_SmartS_Filtered_Standardized-Normalised_3000_Data_train.txt\", delimiter=\"\\ \",engine='python',index_col=0)\n",
    "MCF_s_Train = pd.read_csv(\"processed_data\\MCF7_SmartS_Filtered_Standardized-Normalised_3000_Data_train.txt\", delimiter=\"\\ \",engine='python',index_col=0)\n",
    "HCC_s_Test = pd.read_csv(\"processed_data\\HCC1806_SmartS_Filtered_Standardized-Normalised_3000_Data_test.txt\", delimiter=\"\\ \",engine='python',index_col=0)\n",
    "MCF_s_Test = pd.read_csv(\"processed_data\\MCF7_SmartS_Filtered_Standardized-Normalised_3000_Data_test.txt\", delimiter=\"\\ \",engine='python',index_col=0)\n",
    "\n",
    "#-----DropSeq-----#\n",
    "HCC_d = pd.read_csv(\"raw_data_DropSeq\\HCC1806_Filtered_Normalised_3000_Data_train.txt\", delimiter=\"\\ \",engine='python',index_col=0)\n",
    "MCF_d = pd.read_csv(\"raw_data_DropSeq\\MCF7_Filtered_Normalised_3000_Data_train.txt\", delimiter=\"\\ \",engine='python',index_col=0)\n"
   ]
  },
  {
   "cell_type": "code",
   "execution_count": 4,
   "metadata": {},
   "outputs": [],
   "source": [
    "from sklearn.preprocessing import StandardScaler\n",
    "from sklearn.pipeline import make_pipeline\n",
    "from sklearn.linear_model import LogisticRegression\n",
    "from sklearn.model_selection import train_test_split\n",
    "\n",
    "def logi_model(df, y):\n",
    "    pipe = make_pipeline(StandardScaler(), LogisticRegression())\n",
    "    model = pipe.fit(df.T, y)\n",
    "    return model\n",
    "\n",
    "#-----SmartSeq-----#\n",
    "HCC_s_logi_model = logi_model(HCC_s_Train, labels(HCC_s_Train))\n",
    "MCF_s_logi_model = logi_model(MCF_s_Train, labels(MCF_s_Train))\n",
    "\n",
    "#-----DropSeq-----#\n",
    "HCC_d_train, HCC_d_test, y_HCC_d_train, y_HCC_d_test = train_test_split(HCC_d.T, labels(HCC_d))\n",
    "MCF_d_train, MCF_d_test, y_MCF_d_train, y_MCF_d_test = train_test_split(MCF_d.T, labels(MCF_d))\n",
    "HCC_d_logi_model = logi_model(HCC_d_train.T, y_HCC_d_train)\n",
    "MCF_d_logi_model = logi_model(MCF_d_train.T, y_MCF_d_train)\n"
   ]
  },
  {
   "attachments": {},
   "cell_type": "markdown",
   "metadata": {},
   "source": [
    "# Perfromance Measures"
   ]
  },
  {
   "cell_type": "code",
   "execution_count": 5,
   "metadata": {},
   "outputs": [
    {
     "name": "stdout",
     "output_type": "stream",
     "text": [
      "Cross validation score:  [0.97297297 1.         0.94444444 0.91666667 0.94444444]\n",
      "Cross validation score:  [1. 1. 1. 1. 1.]\n",
      "Cross validation score:  [0.93508852 0.92506812 0.9191644  0.92098093 0.92506812]\n",
      "Cross validation score:  [0.96393342 0.97102343 0.96023428 0.96146732 0.96546408]\n"
     ]
    }
   ],
   "source": [
    "from sklearn.model_selection import cross_val_score\n",
    "from sklearn.model_selection import KFold\n",
    "warnings.simplefilter('ignore')\n",
    "\n",
    "def cv_score(df, model):\n",
    "    scaler = StandardScaler()\n",
    "    return cross_val_score(model, scaler.fit_transform(df.T), labels(df), cv=KFold(shuffle=True, n_splits=5), scoring=\"accuracy\")\n",
    "\n",
    "#-----SmartSeq-----#\n",
    "print(\"Cross validation score: \", cv_score(HCC_s_Train, HCC_s_logi_model))\n",
    "print(\"Cross validation score: \", cv_score(MCF_s_Train, MCF_s_logi_model))\n",
    "\n",
    "#-----DropSeq-----#\n",
    "print(\"Cross validation score: \", cv_score(HCC_d_train.T, HCC_d_logi_model))\n",
    "print(\"Cross validation score: \", cv_score(MCF_d_train.T, MCF_d_logi_model))"
   ]
  },
  {
   "cell_type": "code",
   "execution_count": 6,
   "metadata": {},
   "outputs": [
    {
     "name": "stdout",
     "output_type": "stream",
     "text": [
      "SmartSeq HCC:\n",
      "Score:  0.9555555555555556\n",
      "Accuracy Score:  0.9555555555555556\n",
      "confusion_matrix: \n",
      " [[18  2]\n",
      " [ 0 25]] \n",
      "\n",
      "SmartSeq MCF:\n",
      "Score:  0.9838709677419355\n",
      "Accuracy Score:  0.9838709677419355\n",
      "confusion_matrix: \n",
      " [[29  1]\n",
      " [ 0 32]] \n",
      "\n",
      "DropSeq HCC:\n",
      "Score:  0.9245437210569327\n",
      "Accuracy Score:  0.9245437210569327\n",
      "confusion_matrix: \n",
      " [[2106  109]\n",
      " [ 168 1288]] \n",
      "\n",
      "DropSeq MCF:\n",
      "Score:  0.9644904753097836\n",
      "Accuracy Score:  0.9644904753097836\n",
      "confusion_matrix: \n",
      " [[2125   97]\n",
      " [  95 3090]] \n",
      "\n"
     ]
    }
   ],
   "source": [
    "from sklearn.metrics import confusion_matrix\n",
    "from sklearn.metrics import accuracy_score\n",
    "\n",
    "def pred_accuracy(df, model, title=\"\"):\n",
    "    print(title)\n",
    "    print(\"Score: \", model.score(df.T, y=labels(df)))\n",
    "    #print(\"Accuracy Score: \", accuracy_score(labels(df),model.predict(df.T)))\n",
    "    print(\"Confusion matrix: \\n\", confusion_matrix(model.predict(df.T), labels(df)), \"\\n\")\n",
    "\n",
    "#-----SmartSeq-----#\n",
    "pred_accuracy(HCC_s_Test, HCC_s_logi_model, \"SmartSeq HCC:\")\n",
    "pred_accuracy(MCF_s_Test, MCF_s_logi_model, \"SmartSeq MCF:\")\n",
    "\n",
    "#-----DropSeq-----#\n",
    "pred_accuracy(HCC_d_test.T, HCC_d_logi_model, \"DropSeq HCC:\")\n",
    "pred_accuracy(MCF_d_test.T, MCF_d_logi_model, \"DropSeq MCF:\")\n"
   ]
  }
 ],
 "metadata": {
  "kernelspec": {
   "display_name": "ML",
   "language": "python",
   "name": "python3"
  },
  "language_info": {
   "codemirror_mode": {
    "name": "ipython",
    "version": 3
   },
   "file_extension": ".py",
   "mimetype": "text/x-python",
   "name": "python",
   "nbconvert_exporter": "python",
   "pygments_lexer": "ipython3",
   "version": "3.9.16"
  },
  "orig_nbformat": 4
 },
 "nbformat": 4,
 "nbformat_minor": 2
}
